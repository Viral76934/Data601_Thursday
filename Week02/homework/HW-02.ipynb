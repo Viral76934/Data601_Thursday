{
 "cells": [
  {
   "cell_type": "markdown",
   "id": "6bae9450",
   "metadata": {},
   "source": [
    "## Homework 2\n",
    "\n",
    "Please complete the functions below. These functions are for to simulate a fair and a biased die. \n",
    "\n",
    "The biased die has probabilities {0.20, 0.10, 0.15, 0.15, 0.15, 0.25}.\n",
    "\n",
    "Create 2 visualizations that shows outcomes of multiple rolls of a fair die and biased die. \n",
    "* Visualization for fair die\n",
    "* Visualization for biased die\n",
    "\n",
    "Repeat the process programatically and take the mean to create a new list. This list will be used to compare means of biased & unbiased dice. \n",
    "* Create a historgram showing means of biased & unbiased die\n",
    "\n",
    "* Use subcharts\n",
    "* All visualizations must have appropriate titles.\n",
    "* There are 3 visualization and expected format is \n",
    "```\n",
    " [V1] [V2]\n",
    " [   V3  ]\n",
    " ```"
   ]
  },
  {
   "cell_type": "code",
   "execution_count": 116,
   "id": "7078d18a",
   "metadata": {},
   "outputs": [],
   "source": [
    "import random \n",
    "import matplotlib.pyplot as plt\n",
    "\n",
    "trial_count = 500\n",
    "\n",
    "def fair_die_simulation(trials):\n",
    "    \"\"\"\n",
    "    returns an array of randomly numbers between 1 and 6. \n",
    "    \"\"\"\n",
    "    count = trials\n",
    "    options = [1,2,3,4,5,6]\n",
    "    simulations = []\n",
    "    int_prob = [0,0,0,0,0,0]\n",
    "    prob = []\n",
    "    while count!=0:\n",
    "        rand = random.choice(options)\n",
    "        simulations.append(rand)\n",
    "        count-=1\n",
    "    for num in simulations:\n",
    "        for option in options:\n",
    "            if option==num:\n",
    "                int_prob[option-1] = int_prob[option-1]+1\n",
    "    for num in int_prob:\n",
    "        prob.append(num/trials)\n",
    "    return simulations,prob"
   ]
  },
  {
   "cell_type": "code",
   "execution_count": 117,
   "id": "5a02e11e",
   "metadata": {},
   "outputs": [],
   "source": [
    "def biased_die_simuations(trials, weights=[0.25, 0.15, 0.15, 0.15, 0.15, 0.15]):\n",
    "    \"\"\"\n",
    "    returns an array of randomly numbers between 1 and 6 with the probabilty of assosiated weight. \n",
    "    for instance: for weights: [0.25, 0.15, 0.15, 0.15, 0.15, 0.15]\n",
    "    1 has 0.25 change to be selected, 2 has 0.15 chance and so on...\n",
    "    \"\"\"\n",
    "    count = trials\n",
    "    options = [1,1,1,1,1,2,2,2,3,3,3,4,4,4,5,5,5,6,6,6]\n",
    "    simulations = []\n",
    "    while count!=0:\n",
    "        rand = random.choice(options)\n",
    "        simulations.append(rand)\n",
    "        count-=1\n",
    "    return simulations"
   ]
  },
  {
   "cell_type": "code",
   "execution_count": 118,
   "id": "820b8321",
   "metadata": {},
   "outputs": [],
   "source": [
    "biased= biased_die_simuations(trial_count)\n",
    "fair, fp = fair_die_simulation(trial_count)\n",
    "\n",
    "biased_mean_list = [0.25, 0.15, 0.15, 0.15, 0.15, 0.15]\n",
    "unbiased_mean_list = fp"
   ]
  },
  {
   "cell_type": "code",
   "execution_count": 119,
   "id": "cb5bcbb9",
   "metadata": {},
   "outputs": [
    {
     "data": {
      "image/png": "[encoded data removed]",
      "text/plain": [
       "<Figure size 432x288 with 3 Axes>"
      ]
     },
     "metadata": {
      "needs_background": "light"
     },
     "output_type": "display_data"
    }
   ],
   "source": [
    "plt.figure()\n",
    "plt.subplot(2,2,1)\n",
    "plt.hist(fair)\n",
    "plt.title(\"Fair Dice\")\n",
    "plt.xlabel(\"Dice Outcome\")\n",
    "plt.ylabel(\"Count\")\n",
    "plt.subplot(2,2,2)\n",
    "plt.hist(biased)\n",
    "plt.title(\"Biased Dice\")\n",
    "plt.xlabel(\"Dice Outcome\")\n",
    "plt.ylabel(\"Count\")\n",
    "plt.subplot(2,2,(3,4))\n",
    "plt.hist([unbiased_mean_list,biased_mean_list])\n",
    "plt.title(\"Fair vs Biased Mean\")\n",
    "plt.xlabel(\"Mean fair\")\n",
    "plt.ylabel(\"Mean biased\")\n",
    "plt.show()"
   ]
  },
  {
   "cell_type": "code",
   "execution_count": null,
   "id": "5bb897fa",
   "metadata": {
    "scrolled": true
   },
   "outputs": [],
   "source": []
  }
 ],
 "metadata": {
  "kernelspec": {
   "display_name": "Python 3 (ipykernel)",
   "language": "python",
   "name": "python3"
  },
  "language_info": {
   "codemirror_mode": {
    "name": "ipython",
    "version": 3
   },
   "file_extension": ".py",
   "mimetype": "text/x-python",
   "name": "python",
   "nbconvert_exporter": "python",
   "pygments_lexer": "ipython3",
   "version": "3.9.7"
  },
  "toc": {
   "base_numbering": 1,
   "nav_menu": {},
   "number_sections": true,
   "sideBar": true,
   "skip_h1_title": false,
   "title_cell": "Table of Contents",
   "title_sidebar": "Contents",
   "toc_cell": false,
   "toc_position": {},
   "toc_section_display": true,
   "toc_window_display": false
  }
 },
 "nbformat": 4,
 "nbformat_minor": 5
}
