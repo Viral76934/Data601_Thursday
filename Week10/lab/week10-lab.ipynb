{
 "cells": [
  {
   "cell_type": "markdown",
   "id": "72fa4223",
   "metadata": {},
   "source": [
    "# Week10 Lab\n",
    "\n",
    "Write a `ArrayList` class for a basic replacement of list type. \n",
    "It should have the following methods.\n",
    "When you add 2 instances of this type, it should add side by side like pandas Series\n",
    "\n",
    "* it may get an array in the constructor otherwise it will be an empty array\n",
    "* when printed, it should show the numbers as comma separated\n",
    "* append\n",
    "* clear\n",
    "* `__getitem__`\n",
    "* `__add__`\n",
    "* `__len__`\n",
    "* `__repr__`"
   ]
  },
  {
   "cell_type": "code",
   "execution_count": 1,
   "id": "f80e92d9",
   "metadata": {},
   "outputs": [],
   "source": [
    "import numpy as np"
   ]
  },
  {
   "cell_type": "code",
   "execution_count": 2,
   "id": "b05b5884",
   "metadata": {},
   "outputs": [
    {
     "data": {
      "text/plain": [
       "[1, 2, 1, 2]"
      ]
     },
     "execution_count": 2,
     "metadata": {},
     "output_type": "execute_result"
    }
   ],
   "source": [
    "[1,2] + [1,2]\n"
   ]
  },
  {
   "cell_type": "code",
   "execution_count": 3,
   "id": "c376c764",
   "metadata": {},
   "outputs": [
    {
     "data": {
      "text/plain": [
       "['__add__',\n",
       " '__class__',\n",
       " '__class_getitem__',\n",
       " '__contains__',\n",
       " '__delattr__',\n",
       " '__delitem__',\n",
       " '__dir__',\n",
       " '__doc__',\n",
       " '__eq__',\n",
       " '__format__',\n",
       " '__ge__',\n",
       " '__getattribute__',\n",
       " '__getitem__',\n",
       " '__gt__',\n",
       " '__hash__',\n",
       " '__iadd__',\n",
       " '__imul__',\n",
       " '__init__',\n",
       " '__init_subclass__',\n",
       " '__iter__',\n",
       " '__le__',\n",
       " '__len__',\n",
       " '__lt__',\n",
       " '__mul__',\n",
       " '__ne__',\n",
       " '__new__',\n",
       " '__reduce__',\n",
       " '__reduce_ex__',\n",
       " '__repr__',\n",
       " '__reversed__',\n",
       " '__rmul__',\n",
       " '__setattr__',\n",
       " '__setitem__',\n",
       " '__sizeof__',\n",
       " '__str__',\n",
       " '__subclasshook__',\n",
       " 'append',\n",
       " 'clear',\n",
       " 'copy',\n",
       " 'count',\n",
       " 'extend',\n",
       " 'index',\n",
       " 'insert',\n",
       " 'pop',\n",
       " 'remove',\n",
       " 'reverse',\n",
       " 'sort']"
      ]
     },
     "execution_count": 3,
     "metadata": {},
     "output_type": "execute_result"
    }
   ],
   "source": [
    "dir([1,2])"
   ]
  },
  {
   "cell_type": "code",
   "execution_count": 17,
   "id": "5be83ad6",
   "metadata": {},
   "outputs": [],
   "source": [
    "class ArrayList:\n",
    "    def __init__(self, arr=[]):\n",
    "        self.array = np.array(arr)\n",
    "    \n",
    "    def __len__(self):\n",
    "        return self.array.size\n",
    "    \n",
    "    def clear(self):\n",
    "        self.array = np.array([])\n",
    "        \n",
    "    def append(self, values):\n",
    "        self.array=np.append(self.array, values)\n",
    "    def __getitem__(self, item):\n",
    "        return self.array[item]\n",
    "#     def __repr__(self):\n",
    "#         return str(self.array)\n",
    "    def __repr__(self):\n",
    "        s = ''\n",
    "        for i in range(0,len(self.array)):\n",
    "            if i == len(self.array) - 1:\n",
    "                s += str(self.array[i])\n",
    "            else:\n",
    "                s += str(self.array[i]) + ','\n",
    "        return s\n",
    "    \n",
    "    def __add__(self, arr):\n",
    "        return self.array + arr.array\n",
    "        \n",
    "    \n",
    "    pass"
   ]
  },
  {
   "cell_type": "code",
   "execution_count": 5,
   "id": "163f4faf",
   "metadata": {},
   "outputs": [],
   "source": [
    "t1 = ArrayList([1,2,3])"
   ]
  },
  {
   "cell_type": "code",
   "execution_count": 6,
   "id": "42c3f587",
   "metadata": {},
   "outputs": [
    {
     "data": {
      "text/plain": [
       "1,2,3"
      ]
     },
     "execution_count": 6,
     "metadata": {},
     "output_type": "execute_result"
    }
   ],
   "source": [
    "t1"
   ]
  },
  {
   "cell_type": "code",
   "execution_count": 7,
   "id": "d723c2dd",
   "metadata": {},
   "outputs": [
    {
     "data": {
      "text/plain": [
       "1,2,3"
      ]
     },
     "execution_count": 7,
     "metadata": {},
     "output_type": "execute_result"
    }
   ],
   "source": [
    "t1"
   ]
  },
  {
   "cell_type": "code",
   "execution_count": 8,
   "id": "3dd2d9bd",
   "metadata": {},
   "outputs": [],
   "source": [
    "arr= [1,2,3]"
   ]
  },
  {
   "cell_type": "code",
   "execution_count": 9,
   "id": "b35e9215",
   "metadata": {},
   "outputs": [
    {
     "data": {
      "text/plain": [
       "1,2,3"
      ]
     },
     "execution_count": 9,
     "metadata": {},
     "output_type": "execute_result"
    }
   ],
   "source": [
    "s1 = ArrayList([1,2])\n",
    "s1.append(3)\n",
    "s1 # should show 1,2,3"
   ]
  },
  {
   "cell_type": "code",
   "execution_count": 10,
   "id": "cf2e6715",
   "metadata": {},
   "outputs": [
    {
     "data": {
      "text/plain": [
       "3"
      ]
     },
     "execution_count": 10,
     "metadata": {},
     "output_type": "execute_result"
    }
   ],
   "source": [
    "s1 = ArrayList([1,2,3])\n",
    "\n",
    "len(s1) # should show 3"
   ]
  },
  {
   "cell_type": "code",
   "execution_count": 11,
   "id": "ac3f84f1",
   "metadata": {},
   "outputs": [
    {
     "data": {
      "text/plain": [
       "1"
      ]
     },
     "execution_count": 11,
     "metadata": {},
     "output_type": "execute_result"
    }
   ],
   "source": [
    "s1 = ArrayList([1,2,3])\n",
    "s1[0] # should show 1"
   ]
  },
  {
   "cell_type": "code",
   "execution_count": 12,
   "id": "f8404ac9",
   "metadata": {},
   "outputs": [
    {
     "data": {
      "text/plain": [
       "0"
      ]
     },
     "execution_count": 12,
     "metadata": {},
     "output_type": "execute_result"
    }
   ],
   "source": [
    "s1 = ArrayList([1,2,3])\n",
    "s1.clear()\n",
    "len(s1) # should show 0"
   ]
  },
  {
   "cell_type": "code",
   "execution_count": 18,
   "id": "39c83d17",
   "metadata": {},
   "outputs": [
    {
     "data": {
      "text/plain": [
       "array([3, 5, 7])"
      ]
     },
     "execution_count": 18,
     "metadata": {},
     "output_type": "execute_result"
    }
   ],
   "source": [
    "s1 = ArrayList([1,2,3])\n",
    "s2 = ArrayList([2,3,4])\n",
    "s3 = ArrayList()\n",
    "s3 = s1 + s2 # should show 3,5,7\n",
    "s3"
   ]
  },
  {
   "cell_type": "code",
   "execution_count": 19,
   "id": "9a916fb4",
   "metadata": {},
   "outputs": [
    {
     "name": "stdout",
     "output_type": "stream",
     "text": [
      "1,2,3\n"
     ]
    }
   ],
   "source": [
    "print(s1)"
   ]
  },
  {
   "cell_type": "code",
   "execution_count": null,
   "id": "7cddac3a",
   "metadata": {},
   "outputs": [],
   "source": []
  }
 ],
 "metadata": {
  "kernelspec": {
   "display_name": "Python 3 (ipykernel)",
   "language": "python",
   "name": "python3"
  },
  "language_info": {
   "codemirror_mode": {
    "name": "ipython",
    "version": 3
   },
   "file_extension": ".py",
   "mimetype": "text/x-python",
   "name": "python",
   "nbconvert_exporter": "python",
   "pygments_lexer": "ipython3",
   "version": "3.9.7"
  },
  "toc": {
   "base_numbering": 1,
   "nav_menu": {},
   "number_sections": true,
   "sideBar": true,
   "skip_h1_title": false,
   "title_cell": "Table of Contents",
   "title_sidebar": "Contents",
   "toc_cell": false,
   "toc_position": {},
   "toc_section_display": true,
   "toc_window_display": false
  }
 },
 "nbformat": 4,
 "nbformat_minor": 5
}
