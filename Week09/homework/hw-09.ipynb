{
 "cells": [
  {
   "cell_type": "code",
   "execution_count": 1,
   "metadata": {},
   "outputs": [],
   "source": [
    "# watch this: https://www.youtube.com/watch?v=iFTWM7HV2UI\n",
    "# your cleaned data after you complete this analysis: \n",
    "# upload to: https://docs.google.com/forms/d/e/1FAIpQLScVuy4aSiSSpLfUOxbmutWtcUidfkzPDc-C0J2gy6Y8TXqeHQ/viewform\n",
    "\n",
    "import pandas as pd\n",
    "\n",
    "import matplotlib\n",
    "import matplotlib.pyplot as plt"
   ]
  },
  {
   "cell_type": "code",
   "execution_count": 2,
   "metadata": {},
   "outputs": [
    {
     "data": {
      "text/plain": [
       "(5319, 2)"
      ]
     },
     "execution_count": 2,
     "metadata": {},
     "output_type": "execute_result"
    }
   ],
   "source": [
    "df = pd.read_csv('history_cleaned.csv')\n",
    "df.shape"
   ]
  },
  {
   "cell_type": "code",
   "execution_count": 3,
   "metadata": {},
   "outputs": [
    {
     "data": {
      "text/html": [
       "<div>\n",
       "<style scoped>\n",
       "    .dataframe tbody tr th:only-of-type {\n",
       "        vertical-align: middle;\n",
       "    }\n",
       "\n",
       "    .dataframe tbody tr th {\n",
       "        vertical-align: top;\n",
       "    }\n",
       "\n",
       "    .dataframe thead th {\n",
       "        text-align: right;\n",
       "    }\n",
       "</style>\n",
       "<table border=\"1\" class=\"dataframe\">\n",
       "  <thead>\n",
       "    <tr style=\"text-align: right;\">\n",
       "      <th></th>\n",
       "      <th>Time</th>\n",
       "      <th>domain</th>\n",
       "    </tr>\n",
       "  </thead>\n",
       "  <tbody>\n",
       "    <tr>\n",
       "      <th>0</th>\n",
       "      <td>2022-01-19 21:24:42-04:00</td>\n",
       "      <td>webauth.umbc.edu</td>\n",
       "    </tr>\n",
       "    <tr>\n",
       "      <th>1</th>\n",
       "      <td>2022-01-19 21:24:42-04:00</td>\n",
       "      <td>webauth.umbc.edu</td>\n",
       "    </tr>\n",
       "    <tr>\n",
       "      <th>2</th>\n",
       "      <td>2022-01-19 21:24:51-04:00</td>\n",
       "      <td>myretrievercare.umbc.edu</td>\n",
       "    </tr>\n",
       "    <tr>\n",
       "      <th>3</th>\n",
       "      <td>2022-01-19 21:24:51-04:00</td>\n",
       "      <td>webauth.umbc.edu</td>\n",
       "    </tr>\n",
       "    <tr>\n",
       "      <th>4</th>\n",
       "      <td>2022-01-19 21:24:51-04:00</td>\n",
       "      <td>webauth.umbc.edu</td>\n",
       "    </tr>\n",
       "  </tbody>\n",
       "</table>\n",
       "</div>"
      ],
      "text/plain": [
       "                        Time                    domain\n",
       "0  2022-01-19 21:24:42-04:00          webauth.umbc.edu\n",
       "1  2022-01-19 21:24:42-04:00          webauth.umbc.edu\n",
       "2  2022-01-19 21:24:51-04:00  myretrievercare.umbc.edu\n",
       "3  2022-01-19 21:24:51-04:00          webauth.umbc.edu\n",
       "4  2022-01-19 21:24:51-04:00          webauth.umbc.edu"
      ]
     },
     "execution_count": 3,
     "metadata": {},
     "output_type": "execute_result"
    }
   ],
   "source": [
    "df.head()"
   ]
  },
  {
   "cell_type": "code",
   "execution_count": 4,
   "metadata": {},
   "outputs": [
    {
     "data": {
      "text/html": [
       "<div>\n",
       "<style scoped>\n",
       "    .dataframe tbody tr th:only-of-type {\n",
       "        vertical-align: middle;\n",
       "    }\n",
       "\n",
       "    .dataframe tbody tr th {\n",
       "        vertical-align: top;\n",
       "    }\n",
       "\n",
       "    .dataframe thead th {\n",
       "        text-align: right;\n",
       "    }\n",
       "</style>\n",
       "<table border=\"1\" class=\"dataframe\">\n",
       "  <thead>\n",
       "    <tr style=\"text-align: right;\">\n",
       "      <th></th>\n",
       "      <th>Time</th>\n",
       "      <th>domain</th>\n",
       "    </tr>\n",
       "  </thead>\n",
       "  <tbody>\n",
       "    <tr>\n",
       "      <th>5314</th>\n",
       "      <td>2022-04-19 21:13:23-04:00</td>\n",
       "      <td>meet.google.com</td>\n",
       "    </tr>\n",
       "    <tr>\n",
       "      <th>5315</th>\n",
       "      <td>2022-04-19 21:16:56-04:00</td>\n",
       "      <td>meet.google.com</td>\n",
       "    </tr>\n",
       "    <tr>\n",
       "      <th>5316</th>\n",
       "      <td>2022-04-19 21:17:09-04:00</td>\n",
       "      <td>meet.google.com</td>\n",
       "    </tr>\n",
       "    <tr>\n",
       "      <th>5317</th>\n",
       "      <td>2022-04-19 21:17:56-04:00</td>\n",
       "      <td>meet.google.com</td>\n",
       "    </tr>\n",
       "    <tr>\n",
       "      <th>5318</th>\n",
       "      <td>2022-04-19 21:18:01-04:00</td>\n",
       "      <td>meet.google.com</td>\n",
       "    </tr>\n",
       "  </tbody>\n",
       "</table>\n",
       "</div>"
      ],
      "text/plain": [
       "                           Time           domain\n",
       "5314  2022-04-19 21:13:23-04:00  meet.google.com\n",
       "5315  2022-04-19 21:16:56-04:00  meet.google.com\n",
       "5316  2022-04-19 21:17:09-04:00  meet.google.com\n",
       "5317  2022-04-19 21:17:56-04:00  meet.google.com\n",
       "5318  2022-04-19 21:18:01-04:00  meet.google.com"
      ]
     },
     "execution_count": 4,
     "metadata": {},
     "output_type": "execute_result"
    }
   ],
   "source": [
    "df.tail()"
   ]
  },
  {
   "cell_type": "code",
   "execution_count": 5,
   "metadata": {},
   "outputs": [
    {
     "data": {
      "text/plain": [
       "Time      0\n",
       "domain    0\n",
       "dtype: int64"
      ]
     },
     "execution_count": 5,
     "metadata": {},
     "output_type": "execute_result"
    }
   ],
   "source": [
    "df.isna().sum()"
   ]
  },
  {
   "cell_type": "code",
   "execution_count": 6,
   "metadata": {},
   "outputs": [],
   "source": [
    "df.dropna( inplace=True)"
   ]
  },
  {
   "cell_type": "code",
   "execution_count": 7,
   "metadata": {},
   "outputs": [
    {
     "data": {
      "text/plain": [
       "Time      object\n",
       "domain    object\n",
       "dtype: object"
      ]
     },
     "execution_count": 7,
     "metadata": {},
     "output_type": "execute_result"
    }
   ],
   "source": [
    "df.dtypes"
   ]
  },
  {
   "cell_type": "code",
   "execution_count": 8,
   "metadata": {},
   "outputs": [
    {
     "data": {
      "text/plain": [
       "0"
      ]
     },
     "execution_count": 8,
     "metadata": {},
     "output_type": "execute_result"
    }
   ],
   "source": [
    "# time column is string and string date is starting with YYYY, so I can do string compares\n",
    "sum(df['Time'] < '1900') "
   ]
  },
  {
   "cell_type": "code",
   "execution_count": 9,
   "metadata": {},
   "outputs": [],
   "source": [
    "# I filter and get a copy, so I will not work on a slice, this will be a new dataframe. (essentially losing 1900 data points)\n",
    "df = df[df.Time > '1900'].copy() "
   ]
  },
  {
   "cell_type": "code",
   "execution_count": 10,
   "metadata": {},
   "outputs": [],
   "source": [
    "df['Time'] = pd.to_datetime(df['Time'])"
   ]
  },
  {
   "cell_type": "code",
   "execution_count": 11,
   "metadata": {},
   "outputs": [],
   "source": [
    "# df['domain'] = df['domain'].astype(str)"
   ]
  },
  {
   "cell_type": "code",
   "execution_count": 12,
   "metadata": {},
   "outputs": [
    {
     "data": {
      "text/plain": [
       "Time      datetime64[ns, pytz.FixedOffset(-240)]\n",
       "domain                                    object\n",
       "dtype: object"
      ]
     },
     "execution_count": 12,
     "metadata": {},
     "output_type": "execute_result"
    }
   ],
   "source": [
    "df.dtypes"
   ]
  },
  {
   "cell_type": "code",
   "execution_count": 13,
   "metadata": {},
   "outputs": [
    {
     "data": {
      "text/html": [
       "<div>\n",
       "<style scoped>\n",
       "    .dataframe tbody tr th:only-of-type {\n",
       "        vertical-align: middle;\n",
       "    }\n",
       "\n",
       "    .dataframe tbody tr th {\n",
       "        vertical-align: top;\n",
       "    }\n",
       "\n",
       "    .dataframe thead th {\n",
       "        text-align: right;\n",
       "    }\n",
       "</style>\n",
       "<table border=\"1\" class=\"dataframe\">\n",
       "  <thead>\n",
       "    <tr style=\"text-align: right;\">\n",
       "      <th></th>\n",
       "      <th>Time</th>\n",
       "      <th>domain</th>\n",
       "    </tr>\n",
       "  </thead>\n",
       "  <tbody>\n",
       "    <tr>\n",
       "      <th>0</th>\n",
       "      <td>2022-01-19 21:24:42-04:00</td>\n",
       "      <td>webauth.umbc.edu</td>\n",
       "    </tr>\n",
       "    <tr>\n",
       "      <th>1</th>\n",
       "      <td>2022-01-19 21:24:42-04:00</td>\n",
       "      <td>webauth.umbc.edu</td>\n",
       "    </tr>\n",
       "    <tr>\n",
       "      <th>2</th>\n",
       "      <td>2022-01-19 21:24:51-04:00</td>\n",
       "      <td>myretrievercare.umbc.edu</td>\n",
       "    </tr>\n",
       "    <tr>\n",
       "      <th>3</th>\n",
       "      <td>2022-01-19 21:24:51-04:00</td>\n",
       "      <td>webauth.umbc.edu</td>\n",
       "    </tr>\n",
       "    <tr>\n",
       "      <th>4</th>\n",
       "      <td>2022-01-19 21:24:51-04:00</td>\n",
       "      <td>webauth.umbc.edu</td>\n",
       "    </tr>\n",
       "  </tbody>\n",
       "</table>\n",
       "</div>"
      ],
      "text/plain": [
       "                       Time                    domain\n",
       "0 2022-01-19 21:24:42-04:00          webauth.umbc.edu\n",
       "1 2022-01-19 21:24:42-04:00          webauth.umbc.edu\n",
       "2 2022-01-19 21:24:51-04:00  myretrievercare.umbc.edu\n",
       "3 2022-01-19 21:24:51-04:00          webauth.umbc.edu\n",
       "4 2022-01-19 21:24:51-04:00          webauth.umbc.edu"
      ]
     },
     "execution_count": 13,
     "metadata": {},
     "output_type": "execute_result"
    }
   ],
   "source": [
    "df.head()"
   ]
  },
  {
   "cell_type": "code",
   "execution_count": 106,
   "metadata": {},
   "outputs": [],
   "source": [
    "# df['domain'].unique()"
   ]
  },
  {
   "cell_type": "code",
   "execution_count": 14,
   "metadata": {
    "scrolled": false
   },
   "outputs": [
    {
     "data": {
      "text/plain": [
       "www.google.com                                                   960\n",
       "webauth.umbc.edu                                                 785\n",
       "1stkissmanga.io                                                  623\n",
       "blackboard.umbc.edu                                              352\n",
       "mangatx.com                                                      247\n",
       "github.com                                                       207\n",
       "my.umbc.edu                                                      156\n",
       "www.w3schools.com                                                150\n",
       "www.amazon.com                                                   120\n",
       "csprd-web.ps.umbc.edu                                             84\n",
       "localhost:8888                                                    82\n",
       "www.coursehero.com                                                74\n",
       "www.youtube.com                                                   63\n",
       "umbc-my.sharepoint.com                                            59\n",
       "readmanganato.com                                                 56\n",
       "login.xfinity.com                                                 49\n",
       "www.xfinity.com                                                   49\n",
       "chicagobusinesspress.com                                          46\n",
       "www2.kickassanime.ro                                              45\n",
       "myretrievercare.umbc.edu                                          42\n",
       "my.xfinity.com                                                    42\n",
       "umbc.academicworks.com                                            40\n",
       "mail.google.com                                                   34\n",
       "my3.my.umbc.edu                                                   33\n",
       "catalog.data.gov                                                  32\n",
       "idm.xfinity.com                                                   32\n",
       "learn-us-east-1-prod-fleet01-xythos.content.blackboardcdn.com     31\n",
       "verify.id.me                                                      29\n",
       "accounts.google.com                                               27\n",
       "u1lib.org                                                         23\n",
       "hbsp.harvard.edu                                                  21\n",
       "umbc.webex.com                                                    21\n",
       "www.prepostseo.com                                                20\n",
       "umbctickets.universitytickets.com                                 20\n",
       "umbc-csm.symplicity.com                                           19\n",
       "www.office.com                                                    18\n",
       "www.loom.com                                                      18\n",
       "us05web.zoom.us                                                   18\n",
       "commerce.cashnet.com                                              16\n",
       "www.isoa.org                                                      15\n",
       "scholar.google.com                                                13\n",
       "web.whatsapp.com                                                  13\n",
       "meet.google.com                                                   13\n",
       "www.vibeaccount.com                                               12\n",
       "www.paraphraser.io                                                10\n",
       "education.github.com                                              10\n",
       "login.microsoftonline.com                                         10\n",
       "quillbot.com                                                      10\n",
       "shop.id.me                                                        10\n",
       "faker.readthedocs.io                                              10\n",
       "Name: domain, dtype: int64"
      ]
     },
     "execution_count": 14,
     "metadata": {},
     "output_type": "execute_result"
    }
   ],
   "source": [
    "df['domain'].value_counts()[:50]"
   ]
  },
  {
   "cell_type": "code",
   "execution_count": 15,
   "metadata": {},
   "outputs": [
    {
     "data": {
      "text/plain": [
       "<AxesSubplot:>"
      ]
     },
     "execution_count": 15,
     "metadata": {},
     "output_type": "execute_result"
    },
    {
     "data": {
      "image/png": "[encoded data removed]",
      "text/plain": [
       "<Figure size 432x288 with 1 Axes>"
      ]
     },
     "metadata": {
      "needs_background": "light"
     },
     "output_type": "display_data"
    }
   ],
   "source": [
    "# top 10 sites that I visisted\n",
    "df['domain'].value_counts()[:10].plot(kind='bar')"
   ]
  },
  {
   "cell_type": "code",
   "execution_count": 16,
   "metadata": {},
   "outputs": [
    {
     "data": {
      "text/plain": [
       "Time\n",
       "0     240\n",
       "1     133\n",
       "2     135\n",
       "3      34\n",
       "4      37\n",
       "7      37\n",
       "8      82\n",
       "9     130\n",
       "10    208\n",
       "11    208\n",
       "12    464\n",
       "13    295\n",
       "14    247\n",
       "15    438\n",
       "16    596\n",
       "17    372\n",
       "18    332\n",
       "19    222\n",
       "20    213\n",
       "21    290\n",
       "22    248\n",
       "23    358\n",
       "Name: domain, dtype: int64"
      ]
     },
     "execution_count": 16,
     "metadata": {},
     "output_type": "execute_result"
    }
   ],
   "source": [
    "hourly_counts = df.groupby(df.Time.dt.hour).domain.size()\n",
    "hourly_counts"
   ]
  },
  {
   "cell_type": "code",
   "execution_count": 17,
   "metadata": {
    "scrolled": true
   },
   "outputs": [
    {
     "data": {
      "text/plain": [
       "<AxesSubplot:xlabel='Time'>"
      ]
     },
     "execution_count": 17,
     "metadata": {},
     "output_type": "execute_result"
    },
    {
     "data": {
      "image/png": "[encoded data removed]",
      "text/plain": [
       "<Figure size 432x288 with 1 Axes>"
      ]
     },
     "metadata": {
      "needs_background": "light"
     },
     "output_type": "display_data"
    }
   ],
   "source": [
    "hourly_counts.plot.bar()"
   ]
  },
  {
   "cell_type": "code",
   "execution_count": 18,
   "metadata": {},
   "outputs": [
    {
     "data": {
      "text/html": [
       "<div>\n",
       "<style scoped>\n",
       "    .dataframe tbody tr th:only-of-type {\n",
       "        vertical-align: middle;\n",
       "    }\n",
       "\n",
       "    .dataframe tbody tr th {\n",
       "        vertical-align: top;\n",
       "    }\n",
       "\n",
       "    .dataframe thead th {\n",
       "        text-align: right;\n",
       "    }\n",
       "</style>\n",
       "<table border=\"1\" class=\"dataframe\">\n",
       "  <thead>\n",
       "    <tr style=\"text-align: right;\">\n",
       "      <th></th>\n",
       "      <th>Time</th>\n",
       "      <th>domain</th>\n",
       "      <th>Day</th>\n",
       "      <th>DayIndex</th>\n",
       "    </tr>\n",
       "  </thead>\n",
       "  <tbody>\n",
       "    <tr>\n",
       "      <th>0</th>\n",
       "      <td>2022-01-19 21:24:42-04:00</td>\n",
       "      <td>webauth.umbc.edu</td>\n",
       "      <td>Wednesday</td>\n",
       "      <td>2</td>\n",
       "    </tr>\n",
       "    <tr>\n",
       "      <th>1</th>\n",
       "      <td>2022-01-19 21:24:42-04:00</td>\n",
       "      <td>webauth.umbc.edu</td>\n",
       "      <td>Wednesday</td>\n",
       "      <td>2</td>\n",
       "    </tr>\n",
       "    <tr>\n",
       "      <th>2</th>\n",
       "      <td>2022-01-19 21:24:51-04:00</td>\n",
       "      <td>myretrievercare.umbc.edu</td>\n",
       "      <td>Wednesday</td>\n",
       "      <td>2</td>\n",
       "    </tr>\n",
       "    <tr>\n",
       "      <th>3</th>\n",
       "      <td>2022-01-19 21:24:51-04:00</td>\n",
       "      <td>webauth.umbc.edu</td>\n",
       "      <td>Wednesday</td>\n",
       "      <td>2</td>\n",
       "    </tr>\n",
       "    <tr>\n",
       "      <th>4</th>\n",
       "      <td>2022-01-19 21:24:51-04:00</td>\n",
       "      <td>webauth.umbc.edu</td>\n",
       "      <td>Wednesday</td>\n",
       "      <td>2</td>\n",
       "    </tr>\n",
       "  </tbody>\n",
       "</table>\n",
       "</div>"
      ],
      "text/plain": [
       "                       Time                    domain        Day  DayIndex\n",
       "0 2022-01-19 21:24:42-04:00          webauth.umbc.edu  Wednesday         2\n",
       "1 2022-01-19 21:24:42-04:00          webauth.umbc.edu  Wednesday         2\n",
       "2 2022-01-19 21:24:51-04:00  myretrievercare.umbc.edu  Wednesday         2\n",
       "3 2022-01-19 21:24:51-04:00          webauth.umbc.edu  Wednesday         2\n",
       "4 2022-01-19 21:24:51-04:00          webauth.umbc.edu  Wednesday         2"
      ]
     },
     "execution_count": 18,
     "metadata": {},
     "output_type": "execute_result"
    }
   ],
   "source": [
    "df['Day'] = [ d.day_name() for d in df['Time']]\n",
    "df['DayIndex'] = [ d.dayofweek for d in df['Time']]\n",
    "df.head()"
   ]
  },
  {
   "cell_type": "code",
   "execution_count": 19,
   "metadata": {},
   "outputs": [
    {
     "data": {
      "text/plain": [
       "Sunday       910\n",
       "Thursday     835\n",
       "Tuesday      810\n",
       "Monday       799\n",
       "Wednesday    776\n",
       "Friday       653\n",
       "Saturday     536\n",
       "Name: Day, dtype: int64"
      ]
     },
     "execution_count": 19,
     "metadata": {},
     "output_type": "execute_result"
    }
   ],
   "source": [
    "df['Day'].value_counts()"
   ]
  },
  {
   "cell_type": "code",
   "execution_count": 20,
   "metadata": {},
   "outputs": [
    {
     "data": {
      "text/plain": [
       "0    799\n",
       "1    810\n",
       "2    776\n",
       "3    835\n",
       "4    653\n",
       "5    536\n",
       "6    910\n",
       "Name: DayIndex, dtype: int64"
      ]
     },
     "execution_count": 20,
     "metadata": {},
     "output_type": "execute_result"
    }
   ],
   "source": [
    "days_sorted = df['DayIndex'].value_counts().sort_index()\n",
    "days_sorted"
   ]
  },
  {
   "cell_type": "code",
   "execution_count": 21,
   "metadata": {},
   "outputs": [
    {
     "data": {
      "image/png": "[encoded data removed]",
      "text/plain": [
       "<Figure size 432x288 with 1 Axes>"
      ]
     },
     "metadata": {
      "needs_background": "light"
     },
     "output_type": "display_data"
    }
   ],
   "source": [
    "days_sorted.plot.bar()\n",
    "plt.xticks(days_sorted.index, ['M', 'T', 'W','Th', 'F', 'Sa', 'Su'], rotation=0)\n",
    "\n",
    "plt.show()"
   ]
  },
  {
   "cell_type": "code",
   "execution_count": 22,
   "metadata": {},
   "outputs": [
    {
     "data": {
      "text/html": [
       "<div>\n",
       "<style scoped>\n",
       "    .dataframe tbody tr th:only-of-type {\n",
       "        vertical-align: middle;\n",
       "    }\n",
       "\n",
       "    .dataframe tbody tr th {\n",
       "        vertical-align: top;\n",
       "    }\n",
       "\n",
       "    .dataframe thead th {\n",
       "        text-align: right;\n",
       "    }\n",
       "</style>\n",
       "<table border=\"1\" class=\"dataframe\">\n",
       "  <thead>\n",
       "    <tr style=\"text-align: right;\">\n",
       "      <th></th>\n",
       "      <th>Time</th>\n",
       "      <th>domain</th>\n",
       "      <th>Day</th>\n",
       "      <th>DayIndex</th>\n",
       "      <th>isWeekend</th>\n",
       "    </tr>\n",
       "  </thead>\n",
       "  <tbody>\n",
       "    <tr>\n",
       "      <th>0</th>\n",
       "      <td>2022-01-19 21:24:42-04:00</td>\n",
       "      <td>webauth.umbc.edu</td>\n",
       "      <td>Wednesday</td>\n",
       "      <td>2</td>\n",
       "      <td>False</td>\n",
       "    </tr>\n",
       "    <tr>\n",
       "      <th>1</th>\n",
       "      <td>2022-01-19 21:24:42-04:00</td>\n",
       "      <td>webauth.umbc.edu</td>\n",
       "      <td>Wednesday</td>\n",
       "      <td>2</td>\n",
       "      <td>False</td>\n",
       "    </tr>\n",
       "    <tr>\n",
       "      <th>2</th>\n",
       "      <td>2022-01-19 21:24:51-04:00</td>\n",
       "      <td>myretrievercare.umbc.edu</td>\n",
       "      <td>Wednesday</td>\n",
       "      <td>2</td>\n",
       "      <td>False</td>\n",
       "    </tr>\n",
       "    <tr>\n",
       "      <th>3</th>\n",
       "      <td>2022-01-19 21:24:51-04:00</td>\n",
       "      <td>webauth.umbc.edu</td>\n",
       "      <td>Wednesday</td>\n",
       "      <td>2</td>\n",
       "      <td>False</td>\n",
       "    </tr>\n",
       "    <tr>\n",
       "      <th>4</th>\n",
       "      <td>2022-01-19 21:24:51-04:00</td>\n",
       "      <td>webauth.umbc.edu</td>\n",
       "      <td>Wednesday</td>\n",
       "      <td>2</td>\n",
       "      <td>False</td>\n",
       "    </tr>\n",
       "  </tbody>\n",
       "</table>\n",
       "</div>"
      ],
      "text/plain": [
       "                       Time                    domain        Day  DayIndex  \\\n",
       "0 2022-01-19 21:24:42-04:00          webauth.umbc.edu  Wednesday         2   \n",
       "1 2022-01-19 21:24:42-04:00          webauth.umbc.edu  Wednesday         2   \n",
       "2 2022-01-19 21:24:51-04:00  myretrievercare.umbc.edu  Wednesday         2   \n",
       "3 2022-01-19 21:24:51-04:00          webauth.umbc.edu  Wednesday         2   \n",
       "4 2022-01-19 21:24:51-04:00          webauth.umbc.edu  Wednesday         2   \n",
       "\n",
       "   isWeekend  \n",
       "0      False  \n",
       "1      False  \n",
       "2      False  \n",
       "3      False  \n",
       "4      False  "
      ]
     },
     "execution_count": 22,
     "metadata": {},
     "output_type": "execute_result"
    }
   ],
   "source": [
    "def is_weekend(day): \n",
    "    return day in ['Saturday', 'Sunday']\n",
    "\n",
    "\n",
    "df['isWeekend'] = [ is_weekend(i) for i in df['Day']]\n",
    "df.head()"
   ]
  },
  {
   "cell_type": "code",
   "execution_count": 23,
   "metadata": {},
   "outputs": [],
   "source": [
    "weekend = df[ df['isWeekend'] == True ]\n",
    "\n",
    "weekday = df[ df['isWeekend'] == False ]\n"
   ]
  },
  {
   "cell_type": "code",
   "execution_count": 24,
   "metadata": {},
   "outputs": [
    {
     "data": {
      "text/html": [
       "<div>\n",
       "<style scoped>\n",
       "    .dataframe tbody tr th:only-of-type {\n",
       "        vertical-align: middle;\n",
       "    }\n",
       "\n",
       "    .dataframe tbody tr th {\n",
       "        vertical-align: top;\n",
       "    }\n",
       "\n",
       "    .dataframe thead th {\n",
       "        text-align: right;\n",
       "    }\n",
       "</style>\n",
       "<table border=\"1\" class=\"dataframe\">\n",
       "  <thead>\n",
       "    <tr style=\"text-align: right;\">\n",
       "      <th></th>\n",
       "      <th>Time</th>\n",
       "      <th>domain</th>\n",
       "      <th>Day</th>\n",
       "      <th>DayIndex</th>\n",
       "      <th>isWeekend</th>\n",
       "    </tr>\n",
       "  </thead>\n",
       "  <tbody>\n",
       "    <tr>\n",
       "      <th>243</th>\n",
       "      <td>2022-01-29 12:05:44-04:00</td>\n",
       "      <td>www.google.com</td>\n",
       "      <td>Saturday</td>\n",
       "      <td>5</td>\n",
       "      <td>True</td>\n",
       "    </tr>\n",
       "    <tr>\n",
       "      <th>244</th>\n",
       "      <td>2022-01-29 12:05:50-04:00</td>\n",
       "      <td>www.amazon.com</td>\n",
       "      <td>Saturday</td>\n",
       "      <td>5</td>\n",
       "      <td>True</td>\n",
       "    </tr>\n",
       "    <tr>\n",
       "      <th>245</th>\n",
       "      <td>2022-01-29 12:06:16-04:00</td>\n",
       "      <td>www.google.com</td>\n",
       "      <td>Saturday</td>\n",
       "      <td>5</td>\n",
       "      <td>True</td>\n",
       "    </tr>\n",
       "    <tr>\n",
       "      <th>246</th>\n",
       "      <td>2022-01-29 12:06:20-04:00</td>\n",
       "      <td>www.amazon.com</td>\n",
       "      <td>Saturday</td>\n",
       "      <td>5</td>\n",
       "      <td>True</td>\n",
       "    </tr>\n",
       "    <tr>\n",
       "      <th>247</th>\n",
       "      <td>2022-01-29 12:06:43-04:00</td>\n",
       "      <td>www.amazon.com</td>\n",
       "      <td>Saturday</td>\n",
       "      <td>5</td>\n",
       "      <td>True</td>\n",
       "    </tr>\n",
       "  </tbody>\n",
       "</table>\n",
       "</div>"
      ],
      "text/plain": [
       "                         Time          domain       Day  DayIndex  isWeekend\n",
       "243 2022-01-29 12:05:44-04:00  www.google.com  Saturday         5       True\n",
       "244 2022-01-29 12:05:50-04:00  www.amazon.com  Saturday         5       True\n",
       "245 2022-01-29 12:06:16-04:00  www.google.com  Saturday         5       True\n",
       "246 2022-01-29 12:06:20-04:00  www.amazon.com  Saturday         5       True\n",
       "247 2022-01-29 12:06:43-04:00  www.amazon.com  Saturday         5       True"
      ]
     },
     "execution_count": 24,
     "metadata": {},
     "output_type": "execute_result"
    }
   ],
   "source": [
    "weekend.head()"
   ]
  },
  {
   "cell_type": "code",
   "execution_count": 25,
   "metadata": {},
   "outputs": [
    {
     "data": {
      "text/plain": [
       "www.google.com         716\n",
       "webauth.umbc.edu       608\n",
       "1stkissmanga.io        388\n",
       "blackboard.umbc.edu    243\n",
       "github.com             190\n",
       "Name: domain, dtype: int64"
      ]
     },
     "execution_count": 25,
     "metadata": {},
     "output_type": "execute_result"
    }
   ],
   "source": [
    "weekday['domain'].value_counts()[:5]"
   ]
  },
  {
   "cell_type": "code",
   "execution_count": 26,
   "metadata": {},
   "outputs": [
    {
     "data": {
      "text/plain": [
       "www.google.com         244\n",
       "1stkissmanga.io        235\n",
       "webauth.umbc.edu       177\n",
       "blackboard.umbc.edu    109\n",
       "mangatx.com             76\n",
       "Name: domain, dtype: int64"
      ]
     },
     "execution_count": 26,
     "metadata": {},
     "output_type": "execute_result"
    }
   ],
   "source": [
    "weekend['domain'].value_counts()[:5]"
   ]
  },
  {
   "cell_type": "code",
   "execution_count": 46,
   "metadata": {},
   "outputs": [
    {
     "data": {
      "image/png": "[encoded data removed]",
      "text/plain": [
       "<Figure size 864x360 with 2 Axes>"
      ]
     },
     "metadata": {
      "needs_background": "light"
     },
     "output_type": "display_data"
    }
   ],
   "source": [
    "def show_stats(df, color, alpha=1, title='', fig=None):\n",
    "    hourly_counts = df.groupby(df.Time.dt.hour).domain.size()\n",
    "    \n",
    "    # fill in the missing hours\n",
    "    for h in range(24):\n",
    "        if h not in hourly_counts:\n",
    "            hourly_counts[h]=0 # I initially didn't do this and hours were not lining up\n",
    "            \n",
    "    if fig != None:\n",
    "        plt.subplot(1,2, fig)\n",
    "        \n",
    "    hourly_counts.sort_index().plot.bar(color=color, alpha=alpha)\n",
    "    plt.title(title)\n",
    "    plt.ylim([0, 400])\n",
    "    \n",
    "\n",
    "plt.figure(figsize=(12, 5))\n",
    "show_stats( weekend, 'red', 1, 'Weekend', 1)\n",
    "    \n",
    "show_stats( weekday, 'blue', 0.5, 'Weekday', 2)\n",
    "\n",
    "plt.show()\n"
   ]
  },
  {
   "cell_type": "code",
   "execution_count": 28,
   "metadata": {},
   "outputs": [],
   "source": [
    "# be skeptical about your data!\n",
    "# am I on computer a lot more on the weekdays \n",
    "# or it shows more simply because there are more weekdays "
   ]
  },
  {
   "cell_type": "code",
   "execution_count": 100,
   "metadata": {},
   "outputs": [
    {
     "data": {
      "image/png": "[encoded data removed]",
      "text/plain": [
       "<Figure size 864x360 with 2 Axes>"
      ]
     },
     "metadata": {
      "needs_background": "light"
     },
     "output_type": "display_data"
    }
   ],
   "source": [
    "def show_stats(df, color, alpha=1, title='', fig=None, y_lim = None):\n",
    "    hourly_counts = df.groupby(df.Time.dt.hour).domain.size()\n",
    "    \n",
    "    days_counts = df.Time.dt.date.nunique()\n",
    "    \n",
    "    # fill in the missing hours\n",
    "    for h in range(24):\n",
    "        if h not in hourly_counts:\n",
    "            hourly_counts[h]=0 # I initially didn't do this and hours were not lining up\n",
    "        else: \n",
    "            hourly_counts[h] = hourly_counts[h] * 100.0 /  days_counts # I multiplied by 100.0 to make it float and also not to loose decimals\n",
    "           \n",
    "    if fig != None:\n",
    "        plt.subplot(1,2, fig)\n",
    "        \n",
    "    hourly_counts.sort_index().plot.bar(color=color, alpha=alpha, title=title)\n",
    "    \n",
    "    if y_lim != None:\n",
    "        plt.ylim(y_lim)\n",
    "\n",
    "\n",
    "plt.figure(figsize=(12, 5))\n",
    "\n",
    "y_lim=[0, 1200]\n",
    "show_stats(weekend, 'red', 1, 'Weekend',fig=1, y_lim=y_lim)\n",
    "    \n",
    "show_stats(weekday, 'blue', 0.5, 'Weekday',fig=2, y_lim=y_lim)\n",
    "\n",
    "plt.show()"
   ]
  },
  {
   "cell_type": "code",
   "execution_count": 59,
   "metadata": {},
   "outputs": [
    {
     "data": {
      "text/plain": [
       "www.google.com                                                   960\n",
       "webauth.umbc.edu                                                 785\n",
       "1stkissmanga.io                                                  623\n",
       "blackboard.umbc.edu                                              352\n",
       "mangatx.com                                                      247\n",
       "github.com                                                       207\n",
       "my.umbc.edu                                                      156\n",
       "www.w3schools.com                                                150\n",
       "www.amazon.com                                                   120\n",
       "csprd-web.ps.umbc.edu                                             84\n",
       "localhost:8888                                                    82\n",
       "www.coursehero.com                                                74\n",
       "www.youtube.com                                                   63\n",
       "umbc-my.sharepoint.com                                            59\n",
       "readmanganato.com                                                 56\n",
       "login.xfinity.com                                                 49\n",
       "www.xfinity.com                                                   49\n",
       "chicagobusinesspress.com                                          46\n",
       "www2.kickassanime.ro                                              45\n",
       "myretrievercare.umbc.edu                                          42\n",
       "my.xfinity.com                                                    42\n",
       "umbc.academicworks.com                                            40\n",
       "mail.google.com                                                   34\n",
       "my3.my.umbc.edu                                                   33\n",
       "catalog.data.gov                                                  32\n",
       "idm.xfinity.com                                                   32\n",
       "learn-us-east-1-prod-fleet01-xythos.content.blackboardcdn.com     31\n",
       "verify.id.me                                                      29\n",
       "accounts.google.com                                               27\n",
       "u1lib.org                                                         23\n",
       "Name: domain, dtype: int64"
      ]
     },
     "execution_count": 59,
     "metadata": {},
     "output_type": "execute_result"
    }
   ],
   "source": [
    "df['domain'].value_counts()[:30]"
   ]
  },
  {
   "cell_type": "code",
   "execution_count": 31,
   "metadata": {},
   "outputs": [],
   "source": [
    "def get_data_for_domain(val):\n",
    "    return df[df['domain'].str.lower().str.contains(val.lower(), regex=True)]\n",
    "\n",
    "# get_data_for_domain('youtube')"
   ]
  },
  {
   "cell_type": "code",
   "execution_count": 32,
   "metadata": {},
   "outputs": [],
   "source": [
    "def show_domain_stats(domain, color='blue', alpha=1):\n",
    "    data = get_data_for_domain(domain)\n",
    "    show_stats(data, color, alpha)\n",
    "    return data"
   ]
  },
  {
   "cell_type": "code",
   "execution_count": 47,
   "metadata": {},
   "outputs": [
    {
     "data": {
      "image/png": "[encoded data removed]",
      "text/plain": [
       "<Figure size 432x288 with 1 Axes>"
      ]
     },
     "metadata": {
      "needs_background": "light"
     },
     "output_type": "display_data"
    }
   ],
   "source": [
    "_= show_domain_stats('google', 'blue')"
   ]
  },
  {
   "cell_type": "code",
   "execution_count": 79,
   "metadata": {},
   "outputs": [
    {
     "data": {
      "image/png": "[encoded data removed]",
      "text/plain": [
       "<Figure size 432x288 with 1 Axes>"
      ]
     },
     "metadata": {
      "needs_background": "light"
     },
     "output_type": "display_data"
    }
   ],
   "source": [
    "_= show_domain_stats('youtube|netflix|amazon', 'black')"
   ]
  },
  {
   "cell_type": "code",
   "execution_count": 80,
   "metadata": {},
   "outputs": [
    {
     "data": {
      "image/png": "[encoded data removed]",
      "text/plain": [
       "<Figure size 432x288 with 1 Axes>"
      ]
     },
     "metadata": {
      "needs_background": "light"
     },
     "output_type": "display_data"
    }
   ],
   "source": [
    "_= show_domain_stats('anime', 'green')"
   ]
  },
  {
   "cell_type": "code",
   "execution_count": 82,
   "metadata": {},
   "outputs": [
    {
     "data": {
      "image/png": "[encoded data removed]",
      "text/plain": [
       "<Figure size 432x288 with 1 Axes>"
      ]
     },
     "metadata": {
      "needs_background": "light"
     },
     "output_type": "display_data"
    }
   ],
   "source": [
    "_= show_domain_stats('1stkissmanga|mangatx|manga|anime', 'green')"
   ]
  },
  {
   "cell_type": "code",
   "execution_count": 98,
   "metadata": {},
   "outputs": [
    {
     "data": {
      "image/png": "[encoded data removed]",
      "text/plain": [
       "<Figure size 432x288 with 1 Axes>"
      ]
     },
     "metadata": {
      "needs_background": "light"
     },
     "output_type": "display_data"
    }
   ],
   "source": [
    "_= show_domain_stats('1stkissmanga|mangatx|manga|anime|google', 'green')\n",
    "_= show_domain_stats('1stkissmanga|mangatx|manga|anime', 'red')"
   ]
  },
  {
   "cell_type": "code",
   "execution_count": 83,
   "metadata": {},
   "outputs": [
    {
     "data": {
      "image/png": "[encoded data removed]",
      "text/plain": [
       "<Figure size 432x288 with 1 Axes>"
      ]
     },
     "metadata": {
      "needs_background": "light"
     },
     "output_type": "display_data"
    }
   ],
   "source": [
    "_= show_domain_stats('umbc|webauth|myretrievercare|coursehero|github|w3school', 'orange')"
   ]
  },
  {
   "cell_type": "code",
   "execution_count": 97,
   "metadata": {},
   "outputs": [
    {
     "data": {
      "image/png": "[encoded data removed]",
      "text/plain": [
       "<Figure size 432x288 with 1 Axes>"
      ]
     },
     "metadata": {
      "needs_background": "light"
     },
     "output_type": "display_data"
    }
   ],
   "source": [
    "_= show_domain_stats('umbc|webauth|myretrievercare|coursehero|github|w3school|google', 'orange')\n",
    "_= show_domain_stats('umbc|webauth|myretrievercare|coursehero|github|w3school', 'grey')"
   ]
  },
  {
   "cell_type": "code",
   "execution_count": 103,
   "metadata": {},
   "outputs": [
    {
     "data": {
      "image/png": "[encoded data removed]",
      "text/plain": [
       "<Figure size 432x288 with 1 Axes>"
      ]
     },
     "metadata": {
      "needs_background": "light"
     },
     "output_type": "display_data"
    }
   ],
   "source": [
    "_= show_domain_stats('bank', 'green')"
   ]
  },
  {
   "cell_type": "code",
   "execution_count": 105,
   "metadata": {},
   "outputs": [
    {
     "data": {
      "image/png": "[encoded data removed]",
      "text/plain": [
       "<Figure size 432x288 with 1 Axes>"
      ]
     },
     "metadata": {
      "needs_background": "light"
     },
     "output_type": "display_data"
    }
   ],
   "source": [
    "_= show_domain_stats('southwest', 'green')"
   ]
  },
  {
   "cell_type": "markdown",
   "metadata": {},
   "source": [
    "### Based on data, what can we tell about this person?\n",
    "\n",
    "1. Is this a work computer/personal computer?\n",
    "1. Is he employed?\n",
    "1. What is his interests?\n",
    "1. Anything interesting? "
   ]
  },
  {
   "cell_type": "markdown",
   "metadata": {},
   "source": [
    "answer here"
   ]
  },
  {
   "cell_type": "markdown",
   "metadata": {},
   "source": [
    "##### 1. Is this a work computer/personal computer?\n",
    "=> After getting an overview of the history and analyzing it, It seems that this is a personal computer as there are some anime and manga sites and also this seems to a laptop of the student of University of Maryland Baltimore County\n",
    "##### 2. Is he employed?\n",
    "=> No, as mentioned earlier, this user is a student at UMBC, probably an undergraduate or graduate or a PHD student. However, as the content of the history seem a bit immature, I do not think that the user is a PHD student.\n",
    "##### 3. What is his interests?\n",
    "=> After looking at the users history, it can be infered that he mostly spends time on studying() and reading manga. There are also instances where he uses amazon, youtube, netflix and some anime sites of the user may be watching web series and anime in free time.\n",
    "##### 4. Anything interesting?\n",
    "=> Analyzing the data, It seems that the user spends almost same time on the computer from Monday to Thrusday, and the usage is maximum on Sunday.\n",
    "\n",
    "=> Also, in afternoon, the user uses the computer more on the weekends as compared to weekdays.\n",
    "\n",
    "=> The usage starts from 8-9 am and gradually increases in the afternoon(12 to 16) and then gradually decreases till late night(upto 4 am), so the user is a late sleeper and sleeps less, only 4-5 hours.\n",
    "\n",
    "=> The user seems to have bank account in Bank of America and also may have went on a trip(as user was visiting Southwest airlines website)"
   ]
  },
  {
   "cell_type": "code",
   "execution_count": null,
   "metadata": {},
   "outputs": [],
   "source": []
  }
 ],
 "metadata": {
  "kernelspec": {
   "display_name": "Python 3 (ipykernel)",
   "language": "python",
   "name": "python3"
  },
  "language_info": {
   "codemirror_mode": {
    "name": "ipython",
    "version": 3
   },
   "file_extension": ".py",
   "mimetype": "text/x-python",
   "name": "python",
   "nbconvert_exporter": "python",
   "pygments_lexer": "ipython3",
   "version": "3.9.7"
  },
  "toc": {
   "base_numbering": 1,
   "nav_menu": {},
   "number_sections": true,
   "sideBar": true,
   "skip_h1_title": false,
   "title_cell": "Table of Contents",
   "title_sidebar": "Contents",
   "toc_cell": false,
   "toc_position": {},
   "toc_section_display": true,
   "toc_window_display": false
  },
  "varInspector": {
   "cols": {
    "lenName": 16,
    "lenType": 16,
    "lenVar": 40
   },
   "kernels_config": {
    "python": {
     "delete_cmd_postfix": "",
     "delete_cmd_prefix": "del ",
     "library": "var_list.py",
     "varRefreshCmd": "print(var_dic_list())"
    },
    "r": {
     "delete_cmd_postfix": ") ",
     "delete_cmd_prefix": "rm(",
     "library": "var_list.r",
     "varRefreshCmd": "cat(var_dic_list()) "
    }
   },
   "types_to_exclude": [
    "module",
    "function",
    "builtin_function_or_method",
    "instance",
    "_Feature"
   ],
   "window_display": false
  }
 },
 "nbformat": 4,
 "nbformat_minor": 2
}
